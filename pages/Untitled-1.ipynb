{
 "cells": [
  {
   "cell_type": "code",
   "execution_count": 3,
   "metadata": {},
   "outputs": [
    {
     "name": "stdout",
     "output_type": "stream",
     "text": [
      "Collecting handcalcs\n",
      "  Obtaining dependency information for handcalcs from https://files.pythonhosted.org/packages/ed/c3/5a55916ceac2ec75c4d2e77fedc6250c4f79a0818b6ad915a164e8ffef14/handcalcs-1.9.0-py2.py3-none-any.whl.metadata\n",
      "  Downloading handcalcs-1.9.0-py2.py3-none-any.whl.metadata (24 kB)\n",
      "Collecting more_itertools (from handcalcs)\n",
      "  Obtaining dependency information for more_itertools from https://files.pythonhosted.org/packages/23/62/0fe302c6d1be1c777cab0616e6302478251dfbf9055ad426f5d0def75c89/more_itertools-10.6.0-py3-none-any.whl.metadata\n",
      "  Downloading more_itertools-10.6.0-py3-none-any.whl.metadata (37 kB)\n",
      "Collecting innerscope>=0.7.0 (from handcalcs)\n",
      "  Obtaining dependency information for innerscope>=0.7.0 from https://files.pythonhosted.org/packages/70/fb/42ce9736a3a6f54ba4a48595e55287834ba30814a5d944391a8874f5ce4b/innerscope-0.7.0-py3-none-any.whl.metadata\n",
      "  Downloading innerscope-0.7.0-py3-none-any.whl.metadata (8.2 kB)\n",
      "Collecting pyparsing (from handcalcs)\n",
      "  Obtaining dependency information for pyparsing from https://files.pythonhosted.org/packages/1c/a7/c8a2d361bf89c0d9577c934ebb7421b25dc84bf3a8e3ac0a40aed9acc547/pyparsing-3.2.1-py3-none-any.whl.metadata\n",
      "  Downloading pyparsing-3.2.1-py3-none-any.whl.metadata (5.0 kB)\n",
      "Collecting toolz (from innerscope>=0.7.0->handcalcs)\n",
      "  Obtaining dependency information for toolz from https://files.pythonhosted.org/packages/03/98/eb27cc78ad3af8e302c9d8ff4977f5026676e130d28dd7578132a457170c/toolz-1.0.0-py3-none-any.whl.metadata\n",
      "  Downloading toolz-1.0.0-py3-none-any.whl.metadata (5.1 kB)\n",
      "Using cached handcalcs-1.9.0-py2.py3-none-any.whl (89 kB)\n",
      "Using cached innerscope-0.7.0-py3-none-any.whl (19 kB)\n",
      "Downloading more_itertools-10.6.0-py3-none-any.whl (63 kB)\n",
      "   ---------------------------------------- 0.0/63.0 kB ? eta -:--:--\n",
      "   ---------------------------------------- 63.0/63.0 kB 1.7 MB/s eta 0:00:00\n",
      "Downloading pyparsing-3.2.1-py3-none-any.whl (107 kB)\n",
      "   ---------------------------------------- 0.0/107.7 kB ? eta -:--:--\n",
      "   ---------------------------------------- 107.7/107.7 kB 3.1 MB/s eta 0:00:00\n",
      "Using cached toolz-1.0.0-py3-none-any.whl (56 kB)\n",
      "Installing collected packages: toolz, pyparsing, more_itertools, innerscope, handcalcs\n",
      "Successfully installed handcalcs-1.9.0 innerscope-0.7.0 more_itertools-10.6.0 pyparsing-3.2.1 toolz-1.0.0\n",
      "Note: you may need to restart the kernel to use updated packages.\n"
     ]
    }
   ],
   "source": [
    "%pip install handcalcs"
   ]
  },
  {
   "cell_type": "code",
   "execution_count": 10,
   "metadata": {},
   "outputs": [],
   "source": [
    "import forallpeople as si\n",
    "#from handcalcs.decorator import handcalc\n",
    "import handcalcs.render\n",
    "from IPython.display import display, Markdown\n",
    "\n",
    "# Set the environment to imperial units\n",
    "si.environment('structural')\n"
   ]
  },
  {
   "cell_type": "code",
   "execution_count": 12,
   "metadata": {},
   "outputs": [
    {
     "name": "stdout",
     "output_type": "stream",
     "text": [
      "{'mm': 1.000 mm, 'ft': 1.000 ft, 'inch': 1.000 inch, 'N': 1.000 N, 'kN': 1.000 kN, 'MN': 1.000 MN, 'Pa': 1.000 Pa, 'kPa': 1.000 kPa, 'MPa': 1.000 MPa, 'GPa': 1.000 GPa, 'Nm': 1.000 N·m, 'N_m': 1.000 N/m, 'lbft': 1.000 lb·ft, 'kipft': 1.000 kip·ft, 'psf': 1.000 psf, 'lbin': 1.000 lb·in, 'kipin': 1.000 kip·in, 'ksf': 1.000 ksf, 'lb': 1.000 lb, 'lb_ft': 1.000 lb/ft, 'kip_ft': 1.000 kip/ft, 'kip': 1.000 kip, 'lbm': 1.000 lbm, 'psi': 1.000 psi, 'ksi': 1.000 ksi, 'pcf': 1.000 pcf, 'kcf': 1.000 kcf, 'pci': 1.000 pci, 'kci': 1.000 kcf, 'N_m3': 1.000 N/m³, 'Nm2': 1.000 N·m², 'lbft2': 1.000 lb·ft², 'kft2': 1.000 kip·ft², 'J': 1.000 N·m, 'MJ': 1.000 MN·m, 'W': 1.000 W} \n",
      " {'kg': 1.000 kg, 'm': 1.000 m, 's': 1.000 s, 'A': 1.000 A, 'cd': 1.000 cd, 'K': 1.000 K, 'mol': 1.000 mol}\n"
     ]
    }
   ],
   "source": [
    "si.environment()"
   ]
  },
  {
   "cell_type": "code",
   "execution_count": 14,
   "metadata": {},
   "outputs": [
    {
     "ename": "ParseException",
     "evalue": "Expected == | = | + | - | * | // | / | % | , | <= | < | >= | > | != operations, found end of text  (at char 4), (line:1, col:5)",
     "output_type": "error",
     "traceback": [
      "\u001b[1;31m---------------------------------------------------------------------------\u001b[0m",
      "\u001b[1;31mParseException\u001b[0m                            Traceback (most recent call last)",
      "Cell \u001b[1;32mIn[14], line 42\u001b[0m\n\u001b[0;32m     39\u001b[0m Ci \u001b[38;5;241m=\u001b[39m \u001b[38;5;241m1.0\u001b[39m  \u001b[38;5;66;03m# Incising factor\u001b[39;00m\n\u001b[0;32m     41\u001b[0m \u001b[38;5;66;03m# Perform calculations\u001b[39;00m\n\u001b[1;32m---> 42\u001b[0m latex_code, results \u001b[38;5;241m=\u001b[39m \u001b[43mwood_beam_moment_calculation\u001b[49m\u001b[43m(\u001b[49m\u001b[43mb\u001b[49m\u001b[43m,\u001b[49m\u001b[43m \u001b[49m\u001b[43md\u001b[49m\u001b[43m,\u001b[49m\u001b[43m \u001b[49m\u001b[43mL\u001b[49m\u001b[43m,\u001b[49m\u001b[43m \u001b[49m\u001b[43mw\u001b[49m\u001b[43m,\u001b[49m\u001b[43m \u001b[49m\u001b[43mFb\u001b[49m\u001b[43m,\u001b[49m\u001b[43m \u001b[49m\u001b[43mCD\u001b[49m\u001b[43m,\u001b[49m\u001b[43m \u001b[49m\u001b[43mCM\u001b[49m\u001b[43m,\u001b[49m\u001b[43m \u001b[49m\u001b[43mCt\u001b[49m\u001b[43m,\u001b[49m\u001b[43m \u001b[49m\u001b[43mCL\u001b[49m\u001b[43m,\u001b[49m\u001b[43m \u001b[49m\u001b[43mCF\u001b[49m\u001b[43m,\u001b[49m\u001b[43m \u001b[49m\u001b[43mCi\u001b[49m\u001b[43m)\u001b[49m\n\u001b[0;32m     44\u001b[0m \u001b[38;5;66;03m# Display results\u001b[39;00m\n\u001b[0;32m     45\u001b[0m display(Markdown(\u001b[38;5;124m\"\u001b[39m\u001b[38;5;124m## Wood Beam Moment Calculation (NDS 2018)\u001b[39m\u001b[38;5;124m\"\u001b[39m))\n",
      "File \u001b[1;32mc:\\Users\\porte\\anaconda3\\envs\\Design\\lib\\site-packages\\handcalcs\\decorator.py:44\u001b[0m, in \u001b[0;36mhandcalc.<locals>.handcalc_decorator.<locals>.decorated\u001b[1;34m(*args, **kwargs)\u001b[0m\n\u001b[0;32m     42\u001b[0m scope \u001b[38;5;241m=\u001b[39m innerscope\u001b[38;5;241m.\u001b[39mcall(func, \u001b[38;5;241m*\u001b[39margs, \u001b[38;5;241m*\u001b[39m\u001b[38;5;241m*\u001b[39mkwargs)\n\u001b[0;32m     43\u001b[0m renderer \u001b[38;5;241m=\u001b[39m LatexRenderer(cell_source, scope, line_args)\n\u001b[1;32m---> 44\u001b[0m latex_code \u001b[38;5;241m=\u001b[39m \u001b[43mrenderer\u001b[49m\u001b[38;5;241;43m.\u001b[39;49m\u001b[43mrender\u001b[49m\u001b[43m(\u001b[49m\u001b[43m)\u001b[49m\n\u001b[0;32m     45\u001b[0m raw_latex_code \u001b[38;5;241m=\u001b[39m \u001b[38;5;124m\"\u001b[39m\u001b[38;5;124m\"\u001b[39m\u001b[38;5;241m.\u001b[39mjoin(\n\u001b[0;32m     46\u001b[0m     latex_code\u001b[38;5;241m.\u001b[39mreplace(\u001b[38;5;124m\"\u001b[39m\u001b[38;5;130;01m\\\\\u001b[39;00m\u001b[38;5;124m[\u001b[39m\u001b[38;5;124m\"\u001b[39m, \u001b[38;5;124m\"\u001b[39m\u001b[38;5;124m\"\u001b[39m, \u001b[38;5;241m1\u001b[39m)\u001b[38;5;241m.\u001b[39mrsplit(\u001b[38;5;124m\"\u001b[39m\u001b[38;5;130;01m\\\\\u001b[39;00m\u001b[38;5;124m]\u001b[39m\u001b[38;5;124m\"\u001b[39m, \u001b[38;5;241m1\u001b[39m)\n\u001b[0;32m     47\u001b[0m )\n\u001b[0;32m     48\u001b[0m \u001b[38;5;28;01mif\u001b[39;00m jupyter_display:\n",
      "File \u001b[1;32mc:\\Users\\porte\\anaconda3\\envs\\Design\\lib\\site-packages\\handcalcs\\handcalcs.py:184\u001b[0m, in \u001b[0;36mLatexRenderer.render\u001b[1;34m(self, config_options)\u001b[0m\n\u001b[0;32m    183\u001b[0m \u001b[38;5;28;01mdef\u001b[39;00m \u001b[38;5;21mrender\u001b[39m(\u001b[38;5;28mself\u001b[39m, config_options: \u001b[38;5;28mdict\u001b[39m \u001b[38;5;241m=\u001b[39m global_config\u001b[38;5;241m.\u001b[39m_config):\n\u001b[1;32m--> 184\u001b[0m     \u001b[38;5;28;01mreturn\u001b[39;00m \u001b[43mlatex\u001b[49m\u001b[43m(\u001b[49m\n\u001b[0;32m    185\u001b[0m \u001b[43m        \u001b[49m\u001b[43mraw_python_source\u001b[49m\u001b[38;5;241;43m=\u001b[39;49m\u001b[38;5;28;43mself\u001b[39;49m\u001b[38;5;241;43m.\u001b[39;49m\u001b[43msource\u001b[49m\u001b[43m,\u001b[49m\n\u001b[0;32m    186\u001b[0m \u001b[43m        \u001b[49m\u001b[43mcalculated_results\u001b[49m\u001b[38;5;241;43m=\u001b[39;49m\u001b[38;5;28;43mself\u001b[39;49m\u001b[38;5;241;43m.\u001b[39;49m\u001b[43mresults\u001b[49m\u001b[43m,\u001b[49m\n\u001b[0;32m    187\u001b[0m \u001b[43m        \u001b[49m\u001b[43moverride_commands\u001b[49m\u001b[38;5;241;43m=\u001b[39;49m\u001b[38;5;28;43mself\u001b[39;49m\u001b[38;5;241;43m.\u001b[39;49m\u001b[43moverride_commands\u001b[49m\u001b[43m,\u001b[49m\n\u001b[0;32m    188\u001b[0m \u001b[43m        \u001b[49m\u001b[43mconfig_options\u001b[49m\u001b[38;5;241;43m=\u001b[39;49m\u001b[43mconfig_options\u001b[49m\u001b[43m,\u001b[49m\n\u001b[0;32m    189\u001b[0m \u001b[43m        \u001b[49m\u001b[43mcell_precision\u001b[49m\u001b[38;5;241;43m=\u001b[39;49m\u001b[38;5;28;43mself\u001b[39;49m\u001b[38;5;241;43m.\u001b[39;49m\u001b[43moverride_precision\u001b[49m\u001b[43m,\u001b[49m\n\u001b[0;32m    190\u001b[0m \u001b[43m        \u001b[49m\u001b[43mcell_notation\u001b[49m\u001b[38;5;241;43m=\u001b[39;49m\u001b[38;5;28;43mself\u001b[39;49m\u001b[38;5;241;43m.\u001b[39;49m\u001b[43moverride_scientific_notation\u001b[49m\u001b[43m,\u001b[49m\n\u001b[0;32m    191\u001b[0m \u001b[43m    \u001b[49m\u001b[43m)\u001b[49m\n",
      "File \u001b[1;32mc:\\Users\\porte\\anaconda3\\envs\\Design\\lib\\site-packages\\handcalcs\\handcalcs.py:225\u001b[0m, in \u001b[0;36mlatex\u001b[1;34m(raw_python_source, calculated_results, override_commands, config_options, cell_precision, cell_notation)\u001b[0m\n\u001b[0;32m    216\u001b[0m source \u001b[38;5;241m=\u001b[39m raw_python_source\n\u001b[0;32m    218\u001b[0m cell \u001b[38;5;241m=\u001b[39m categorize_raw_cell(\n\u001b[0;32m    219\u001b[0m     source,\n\u001b[0;32m    220\u001b[0m     calculated_results,\n\u001b[1;32m   (...)\u001b[0m\n\u001b[0;32m    223\u001b[0m     cell_notation,\n\u001b[0;32m    224\u001b[0m )\n\u001b[1;32m--> 225\u001b[0m cell \u001b[38;5;241m=\u001b[39m \u001b[43mcategorize_lines\u001b[49m\u001b[43m(\u001b[49m\u001b[43mcell\u001b[49m\u001b[43m)\u001b[49m\n\u001b[0;32m    226\u001b[0m cell \u001b[38;5;241m=\u001b[39m convert_cell(\n\u001b[0;32m    227\u001b[0m     cell,\n\u001b[0;32m    228\u001b[0m     \u001b[38;5;241m*\u001b[39m\u001b[38;5;241m*\u001b[39mconfig_options,\n\u001b[0;32m    229\u001b[0m )\n\u001b[0;32m    230\u001b[0m cell \u001b[38;5;241m=\u001b[39m format_cell(\n\u001b[0;32m    231\u001b[0m     cell,\n\u001b[0;32m    232\u001b[0m     \u001b[38;5;241m*\u001b[39m\u001b[38;5;241m*\u001b[39mconfig_options,\n\u001b[0;32m    233\u001b[0m     \u001b[38;5;66;03m# dec_sep\u001b[39;00m\n\u001b[0;32m    234\u001b[0m )\n",
      "File \u001b[1;32mc:\\Users\\porte\\anaconda3\\envs\\Design\\lib\\site-packages\\handcalcs\\handcalcs.py:329\u001b[0m, in \u001b[0;36mcategorize_lines\u001b[1;34m(cell)\u001b[0m\n\u001b[0;32m    327\u001b[0m \u001b[38;5;28;01melif\u001b[39;00m \u001b[38;5;28misinstance\u001b[39m(cell, SymbolicCell):\n\u001b[0;32m    328\u001b[0m     cell_override \u001b[38;5;241m=\u001b[39m \u001b[38;5;124m\"\u001b[39m\u001b[38;5;124msymbolic\u001b[39m\u001b[38;5;124m\"\u001b[39m\n\u001b[1;32m--> 329\u001b[0m categorized \u001b[38;5;241m=\u001b[39m \u001b[43mcategorize_line\u001b[49m\u001b[43m(\u001b[49m\u001b[43mline\u001b[49m\u001b[43m,\u001b[49m\u001b[43m \u001b[49m\u001b[43mcalculated_results\u001b[49m\u001b[43m,\u001b[49m\u001b[43m \u001b[49m\u001b[43mcell_override\u001b[49m\u001b[43m)\u001b[49m\n\u001b[0;32m    330\u001b[0m categorized_w_result_appended \u001b[38;5;241m=\u001b[39m add_result_values_to_line(\n\u001b[0;32m    331\u001b[0m     categorized, calculated_results\n\u001b[0;32m    332\u001b[0m )\n\u001b[0;32m    333\u001b[0m outgoing\u001b[38;5;241m.\u001b[39mappend(categorized_w_result_appended)\n",
      "File \u001b[1;32mc:\\Users\\porte\\anaconda3\\envs\\Design\\lib\\site-packages\\handcalcs\\handcalcs.py:446\u001b[0m, in \u001b[0;36mcategorize_line\u001b[1;34m(line, calculated_results, cell_override)\u001b[0m\n\u001b[0;32m    440\u001b[0m \u001b[38;5;28;01melif\u001b[39;00m test_for_conditional_line(line):\n\u001b[0;32m    441\u001b[0m     categorized_line \u001b[38;5;241m=\u001b[39m create_conditional_line(\n\u001b[0;32m    442\u001b[0m         line, calculated_results, cell_override, comment\n\u001b[0;32m    443\u001b[0m     )\n\u001b[0;32m    445\u001b[0m \u001b[38;5;28;01melif\u001b[39;00m test_for_numeric_line(\n\u001b[1;32m--> 446\u001b[0m     deque(\u001b[38;5;28mlist\u001b[39m(\u001b[43mexpr_parser\u001b[49m\u001b[43m(\u001b[49m\u001b[43mline\u001b[49m\u001b[43m)\u001b[49m)[\u001b[38;5;241m1\u001b[39m:])  \u001b[38;5;66;03m# Leave off the declared variable\u001b[39;00m\n\u001b[0;32m    447\u001b[0m ):\n\u001b[0;32m    448\u001b[0m     categorized_line \u001b[38;5;241m=\u001b[39m NumericCalcLine(expr_parser(line), comment, \u001b[38;5;124m\"\u001b[39m\u001b[38;5;124m\"\u001b[39m)\n\u001b[0;32m    450\u001b[0m \u001b[38;5;28;01melif\u001b[39;00m \u001b[38;5;124m\"\u001b[39m\u001b[38;5;124m=\u001b[39m\u001b[38;5;124m\"\u001b[39m \u001b[38;5;129;01min\u001b[39;00m line:\n",
      "File \u001b[1;32mc:\\Users\\porte\\anaconda3\\envs\\Design\\lib\\site-packages\\handcalcs\\handcalcs.py:2339\u001b[0m, in \u001b[0;36mexpr_parser\u001b[1;34m(line)\u001b[0m\n\u001b[0;32m   2327\u001b[0m arithop \u001b[38;5;241m=\u001b[39m pp\u001b[38;5;241m.\u001b[39moneOf(\u001b[38;5;124m\"\u001b[39m\u001b[38;5;124m= + - * / // \u001b[39m\u001b[38;5;124m%\u001b[39m\u001b[38;5;124m , < > >= <= == !=\u001b[39m\u001b[38;5;124m\"\u001b[39m)\n\u001b[0;32m   2329\u001b[0m expr \u001b[38;5;241m<<\u001b[39m\u001b[38;5;241m=\u001b[39m pp\u001b[38;5;241m.\u001b[39minfixNotation(\n\u001b[0;32m   2330\u001b[0m     operand,\n\u001b[0;32m   2331\u001b[0m     [\n\u001b[1;32m   (...)\u001b[0m\n\u001b[0;32m   2335\u001b[0m     ],\n\u001b[0;32m   2336\u001b[0m )\n\u001b[0;32m   2338\u001b[0m parsed \u001b[38;5;241m=\u001b[39m list_to_deque(\n\u001b[1;32m-> 2339\u001b[0m     more_itertools\u001b[38;5;241m.\u001b[39mcollapse(\u001b[43mexpr\u001b[49m\u001b[38;5;241;43m.\u001b[39;49m\u001b[43mparseString\u001b[49m\u001b[43m(\u001b[49m\u001b[43mline\u001b[49m\u001b[43m)\u001b[49m\u001b[38;5;241m.\u001b[39masList(), levels\u001b[38;5;241m=\u001b[39m\u001b[38;5;241m1\u001b[39m)\n\u001b[0;32m   2340\u001b[0m )\n\u001b[0;32m   2341\u001b[0m \u001b[38;5;28;01mreturn\u001b[39;00m parsed\n",
      "File \u001b[1;32mc:\\Users\\porte\\anaconda3\\envs\\Design\\lib\\site-packages\\pyparsing\\util.py:377\u001b[0m, in \u001b[0;36mreplaced_by_pep8.<locals>._inner\u001b[1;34m(self, *args, **kwargs)\u001b[0m\n\u001b[0;32m    372\u001b[0m \u001b[38;5;129m@wraps\u001b[39m(fn)\n\u001b[0;32m    373\u001b[0m \u001b[38;5;28;01mdef\u001b[39;00m \u001b[38;5;21m_inner\u001b[39m(\u001b[38;5;28mself\u001b[39m, \u001b[38;5;241m*\u001b[39margs, \u001b[38;5;241m*\u001b[39m\u001b[38;5;241m*\u001b[39mkwargs):\n\u001b[0;32m    374\u001b[0m     \u001b[38;5;66;03m# warnings.warn(\u001b[39;00m\n\u001b[0;32m    375\u001b[0m     \u001b[38;5;66;03m#     f\"Deprecated - use {fn.__name__}\", DeprecationWarning, stacklevel=2\u001b[39;00m\n\u001b[0;32m    376\u001b[0m     \u001b[38;5;66;03m# )\u001b[39;00m\n\u001b[1;32m--> 377\u001b[0m     \u001b[38;5;28;01mreturn\u001b[39;00m fn(\u001b[38;5;28mself\u001b[39m, \u001b[38;5;241m*\u001b[39margs, \u001b[38;5;241m*\u001b[39m\u001b[38;5;241m*\u001b[39mkwargs)\n",
      "File \u001b[1;32mc:\\Users\\porte\\anaconda3\\envs\\Design\\lib\\site-packages\\pyparsing\\core.py:1212\u001b[0m, in \u001b[0;36mParserElement.parse_string\u001b[1;34m(self, instring, parse_all, parseAll)\u001b[0m\n\u001b[0;32m   1209\u001b[0m         \u001b[38;5;28;01mraise\u001b[39;00m\n\u001b[0;32m   1211\u001b[0m     \u001b[38;5;66;03m# catch and re-raise exception from here, clearing out pyparsing internal stack trace\u001b[39;00m\n\u001b[1;32m-> 1212\u001b[0m     \u001b[38;5;28;01mraise\u001b[39;00m exc\u001b[38;5;241m.\u001b[39mwith_traceback(\u001b[38;5;28;01mNone\u001b[39;00m)\n\u001b[0;32m   1213\u001b[0m \u001b[38;5;28;01melse\u001b[39;00m:\n\u001b[0;32m   1214\u001b[0m     \u001b[38;5;28;01mreturn\u001b[39;00m tokens\n",
      "\u001b[1;31mParseException\u001b[0m: Expected == | = | + | - | * | // | / | % | , | <= | < | >= | > | != operations, found end of text  (at char 4), (line:1, col:5)"
     ]
    }
   ],
   "source": [
    "\n",
    "@handcalc()\n",
    "def wood_beam_moment_calculation(b, d, L, w, Fb, CD, CM, Ct, CL, CF, Ci):\n",
    "    ## Inputs\n",
    "    b = b * si.inch  # Beam width\n",
    "    d = d * si.inch  # Beam depth\n",
    "    L = L * si.ft    # Beam span\n",
    "    w = w * si.lb_ft  # Distributed load\n",
    "    Fb = Fb * si.psi  # Reference bending design value\n",
    "\n",
    "    ## Calculations\n",
    "    # Adjusted bending design value (NDS 2018 Section 4.3.1)\n",
    "    Fb_prime = Fb * CD * CM * Ct * CL * CF * Ci\n",
    "\n",
    "    # Section modulus (NDS 2018 Section 3.3.2)\n",
    "    S = (b * d**2) / 6\n",
    "\n",
    "    # Maximum bending moment (simple beam with uniformly distributed load)\n",
    "    M_max = (w * L**2) / 8\n",
    "\n",
    "    # Actual bending stress (NDS 2018 Section 3.3.2)\n",
    "    fb = M_max / S\n",
    "\n",
    "    # Moment capacity ratio (NDS 2018 Section 3.3.1)\n",
    "    ratio = fb / Fb_prime\n",
    "\n",
    "    return locals()\n",
    "\n",
    "# Input values\n",
    "b = 3.5   # Beam width (inches)\n",
    "d = 9.25  # Beam depth (inches)\n",
    "L = 12    # Beam span (feet)\n",
    "w = 40    # Distributed load (lbf/ft)\n",
    "Fb = 1000 # Reference bending design value (psi)\n",
    "CD = 1.0  # Load duration factor\n",
    "CM = 1.0  # Wet service factor\n",
    "Ct = 1.0  # Temperature factor\n",
    "CL = 1.0  # Beam stability factor\n",
    "CF = 1.0  # Size factor\n",
    "Ci = 1.0  # Incising factor\n",
    "\n",
    "# Perform calculations\n",
    "latex_code, results = wood_beam_moment_calculation(b, d, L, w, Fb, CD, CM, Ct, CL, CF, Ci)\n",
    "\n",
    "# Display results\n",
    "display(Markdown(\"## Wood Beam Moment Calculation (NDS 2018)\"))\n",
    "\n",
    "display(Markdown(\"### Inputs\"))\n",
    "display(Markdown(f\"- Beam width: {b} inches\"))\n",
    "display(Markdown(f\"- Beam depth: {d} inches\"))\n",
    "display(Markdown(f\"- Beam span: {L} feet\"))\n",
    "display(Markdown(f\"- Distributed load: {w} lbf/ft\"))\n",
    "display(Markdown(f\"- Reference bending design value: {Fb} psi\"))\n",
    "display(Markdown(f\"- Load duration factor: {CD}\"))\n",
    "display(Markdown(f\"- Wet service factor: {CM}\"))\n",
    "display(Markdown(f\"- Temperature factor: {Ct}\"))\n",
    "display(Markdown(f\"- Beam stability factor: {CL}\"))\n",
    "display(Markdown(f\"- Size factor: {CF}\"))\n",
    "display(Markdown(f\"- Incising factor: {Ci}\"))\n",
    "\n",
    "display(Markdown(\"### Calculations\"))\n",
    "display(Markdown(latex_code))\n",
    "\n",
    "display(Markdown(\"### Summary\"))\n",
    "display(Markdown(f\"Moment capacity ratio: {results['ratio']:.3f}\"))\n",
    "\n",
    "display(Markdown(\"### Additional Results\"))\n",
    "display(Markdown(f\"- Adjusted bending design value (Fb'): {results['Fb_prime'].to('psi'):.2f}\"))\n",
    "display(Markdown(f\"- Section modulus (S): {results['S'].to('inch^3'):.2f}\"))\n",
    "display(Markdown(f\"- Maximum bending moment (M_max): {results['M_max'].to('lbf*inch'):.2f}\"))\n",
    "display(Markdown(f\"- Actual bending stress (fb): {results['fb'].to('psi'):.2f}\"))\n"
   ]
  }
 ],
 "metadata": {
  "kernelspec": {
   "display_name": "Design",
   "language": "python",
   "name": "python3"
  },
  "language_info": {
   "codemirror_mode": {
    "name": "ipython",
    "version": 3
   },
   "file_extension": ".py",
   "mimetype": "text/x-python",
   "name": "python",
   "nbconvert_exporter": "python",
   "pygments_lexer": "ipython3",
   "version": "3.10.12"
  }
 },
 "nbformat": 4,
 "nbformat_minor": 2
}
