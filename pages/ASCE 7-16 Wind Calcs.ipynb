{
 "cells": [
  {
   "cell_type": "code",
   "execution_count": 1,
   "id": "155289f2-dbde-4b03-88cc-f7750061a80d",
   "metadata": {},
   "outputs": [],
   "source": [
    "# Import necessary libraries\n",
    "import handcalcs.render\n",
    "import numpy as np\n",
    "import strupy\n",
    "import forallpeople as usc\n",
    "import sympy as sp"
   ]
  },
  {
   "cell_type": "code",
   "execution_count": 2,
   "id": "be68293e-f831-4c63-b004-12105b8077bd",
   "metadata": {},
   "outputs": [],
   "source": [
    "usc.environment('structural', top_level=True)"
   ]
  },
  {
   "cell_type": "code",
   "execution_count": 17,
   "id": "c05feac8-4597-442e-b490-d00dce1a74d6",
   "metadata": {
    "tags": []
   },
   "outputs": [
    {
     "data": {
      "text/latex": [
       "\\[\n",
       "\\begin{aligned}\n",
       "z &= 30.00\\ \\mathrm{ft} \\; \\;\\textrm{(Height above ground level (ft))}\n",
       " &\\mathrm{Kd} &= 0.85 \\; \\;\\textrm{(Exposure coefficient)}\n",
       " &\\mathrm{Kzt} &= 1.20 \\; \\;\\textrm{(Topographic factor)}\n",
       "\\\\[10pt]\n",
       " \\mathrm{Kd} &= 0.85 \\; \\;\\textrm{(Exposure coefficient)}\n",
       " &\\mathrm{Kzt} &= 1.20 \\; \\;\\textrm{(Topographic factor)}\n",
       " &K_{1} &= 0.88 \\; \\;\\textrm{(Velocity pressure exposure coefficient)}\n",
       "\\\\[10pt]\n",
       " K_{2} &= 2.01 \\; \\;\\textrm{(Gust-effect factor)}\n",
       " &K_{3} &= 1.00 \\; \\;\\textrm{(Directionality factor)}\n",
       " &V_{ult} &= 140 \\; \\;\\textrm{(Ultimate design wind speed (mph))}\n",
       "\\\\[10pt]\n",
       "\\end{aligned}\n",
       "\\]"
      ],
      "text/plain": [
       "<IPython.core.display.Latex object>"
      ]
     },
     "metadata": {},
     "output_type": "display_data"
    }
   ],
   "source": [
    "%%render param 2\n",
    "# Define variables\n",
    "z = 30 * ft # Height above ground level (ft)\n",
    "Kd = 0.85  # Exposure coefficient\n",
    "Kzt = 1.2  # Topographic factor\n",
    "Kd = 0.85  # Exposure coefficient\n",
    "Kzt = 1.2  # Topographic factor\n",
    "K_1 = 0.88  # Velocity pressure exposure coefficient\n",
    "K_2 = 2.01  # Gust-effect factor\n",
    "K_3 = 1.0  # Directionality factor\n",
    "V_ult = 140  # Ultimate design wind speed (mph)\n"
   ]
  },
  {
   "cell_type": "code",
   "execution_count": 7,
   "id": "952dcee3-43aa-4a57-bd55-d5227d76826b",
   "metadata": {
    "tags": []
   },
   "outputs": [
    {
     "data": {
      "text/latex": [
       "\\[\n",
       "\\begin{aligned}\n",
       "z_{g1} &= 46.04 \\cdot \\mathrm{ft} + 0.01326 \\cdot z  = 46.04 \\cdot ft + 0.01326 \\cdot 30.00\\ \\mathrm{ft} &= 46.44\\ \\mathrm{ft}  \n",
       "\\\\[10pt]\n",
       "z_{g2} &= z_{g1} + 0.01326 \\cdot z  = 46.44\\ \\mathrm{ft} + 0.01326 \\cdot 30.00\\ \\mathrm{ft} &= 46.84\\ \\mathrm{ft}  \n",
       "\\\\[10pt]\n",
       "z_{m} &= 98.425 \\cdot \\mathrm{ft} + 0.003495 \\cdot z  = 98.425 \\cdot ft + 0.003495 \\cdot 30.00\\ \\mathrm{ft} &= 98.53\\ \\mathrm{ft}  \n",
       "\\\\[10pt]\n",
       "V_{30} &= V_{ult} \\cdot \\left( \\frac{ z }{ z_{m} } \\right) ^{ K_{1} } \\cdot \\mathrm{Kzt} \\cdot \\mathrm{Kd}  = 140 \\cdot \\left( \\frac{ 30.00\\ \\mathrm{ft} }{ 98.53\\ \\mathrm{ft} } \\right) ^{ 0.88 } \\cdot 1.20 \\cdot 0.85 &= 50.15  \n",
       "\\\\[10pt]\n",
       "V_{50} &= K_{2} \\cdot V_{30}  = 2.01 \\cdot 50.15 &= 100.80  \n",
       "\\\\[10pt]\n",
       "q_{z} &= 0.00256 \\cdot \\left( V_{50} \\right) ^{ 2 } \\cdot K_{3} \\cdot \\mathrm{psf}  = 0.00256 \\cdot \\left( 100.80 \\right) ^{ 2 } \\cdot 1.00 \\cdot psf &= 26.01\\ \\mathrm{psf}  \n",
       "\\end{aligned}\n",
       "\\]"
      ],
      "text/plain": [
       "<IPython.core.display.Latex object>"
      ]
     },
     "metadata": {},
     "output_type": "display_data"
    }
   ],
   "source": [
    "%%render 2\n",
    "# Define equations\n",
    "z_g1 = 46.04 * ft + 0.01326*z\n",
    "z_g2 = z_g1 + 0.01326*z\n",
    "z_m = 98.425* ft + 0.003495*z\n",
    "V_30 = V_ult*(z/z_m)**K_1*Kzt*Kd\n",
    "V_50 = K_2*V_30\n",
    "q_z = 0.00256*V_50**2*K_3 * psf"
   ]
  },
  {
   "cell_type": "code",
   "execution_count": 8,
   "id": "f7f1e80a-27bf-440a-8ef6-1dc6ec314147",
   "metadata": {},
   "outputs": [
    {
     "data": {
      "text/latex": [
       "\\[\n",
       "\\begin{aligned}\n",
       "V_{50} &= K_{2} \\cdot V_{30}  = 2.01 \\cdot 50.15 &= 100.80  \n",
       "\\\\[10pt]\n",
       "q_{z} &= 26.01\\ \\mathrm{psf} \\; \n",
       "\\end{aligned}\n",
       "\\]"
      ],
      "text/plain": [
       "<IPython.core.display.Latex object>"
      ]
     },
     "metadata": {},
     "output_type": "display_data"
    }
   ],
   "source": [
    "%%render 2\n",
    "V_50 = K_2*V_30\n",
    "q_z"
   ]
  },
  {
   "cell_type": "code",
   "execution_count": 9,
   "id": "c7b21bfc-9329-4eca-8699-2644d5ccf224",
   "metadata": {},
   "outputs": [],
   "source": [
    "import pandas as pd\n",
    "\n",
    "# Define the data\n",
    "data = {\n",
    "    'Parameter': ['z', 'K_d', 'Kzt', 'K_1', 'K_2', 'K_3', 'V_ult'],\n",
    "    'Value': [30, 0.85, 1.2, 0.88, 2.01, 1.0, 140],\n",
    "    'Unit': ['ft', '-', '-', '-', '-', '-', 'mph'],\n",
    "    'Description': [\n",
    "        'Height above ground level',\n",
    "        'Exposure coefficient',\n",
    "        'Topographic factor',\n",
    "        'Velocity pressure exposure coefficient',\n",
    "        'Gust-effect factor',\n",
    "        'Directionality factor',\n",
    "        'Ultimate design wind speed'\n",
    "    ]\n",
    "}\n",
    "\n",
    "# Create the DataFrame\n",
    "df = pd.DataFrame(data)\n"
   ]
  },
  {
   "cell_type": "code",
   "execution_count": 10,
   "id": "2a778f4e-e85b-485c-93ef-777abcc300e9",
   "metadata": {},
   "outputs": [
    {
     "data": {
      "text/latex": [
       "\\[\n",
       "\\begin{aligned}\n",
       "z &= 30.00\\ \\mathrm{ft} \\; \\;\\textrm{(Height above ground level (ft))}\n",
       "\\end{aligned}\n",
       "\\]"
      ],
      "text/plain": [
       "<IPython.core.display.Latex object>"
      ]
     },
     "metadata": {},
     "output_type": "display_data"
    }
   ],
   "source": [
    "%%render param 2\n",
    "#df\n",
    "z # Height above ground level (ft)"
   ]
  },
  {
   "cell_type": "code",
   "execution_count": 11,
   "id": "d2b2b7a6-663b-48fe-8414-79a588c431c8",
   "metadata": {},
   "outputs": [],
   "source": [
    "from IPython.display import display, Latex\n",
    "# Generate LaTeX code\n",
    "latex_code = r\"\\begin{align*}\"\n",
    "for index, row in df.iterrows():\n",
    "    value = f\"{row['Value']:.1f}\" if isinstance(row['Value'], float) else row['Value']\n",
    "    latex_code += rf\"{row['Parameter']} &= {value} \\, \\text{{{row['Unit']}}} \\, (\\text{{{row['Description']}}}) \\\\\"\n",
    "latex_code += r\"\\end{align*}\"\n"
   ]
  },
  {
   "cell_type": "code",
   "execution_count": 13,
   "id": "6cab4ddc-12ec-4ae8-938f-7026cfcab112",
   "metadata": {},
   "outputs": [
    {
     "data": {
      "text/latex": [
       "\\begin{align*}z &= 30.0 \\, \\text{ft} \\, (\\text{Height above ground level}) \\\\K_d &= 0.8 \\, \\text{-} \\, (\\text{Exposure coefficient}) \\\\Kzt &= 1.2 \\, \\text{-} \\, (\\text{Topographic factor}) \\\\K_1 &= 0.9 \\, \\text{-} \\, (\\text{Velocity pressure exposure coefficient}) \\\\K_2 &= 2.0 \\, \\text{-} \\, (\\text{Gust-effect factor}) \\\\K_3 &= 1.0 \\, \\text{-} \\, (\\text{Directionality factor}) \\\\V_ult &= 140.0 \\, \\text{mph} \\, (\\text{Ultimate design wind speed}) \\\\\\end{align*}"
      ],
      "text/plain": [
       "<IPython.core.display.Latex object>"
      ]
     },
     "metadata": {},
     "output_type": "display_data"
    }
   ],
   "source": [
    "display(Latex(latex_code))"
   ]
  },
  {
   "cell_type": "code",
   "execution_count": 16,
   "id": "cee87d27",
   "metadata": {},
   "outputs": [
    {
     "ename": "ValueError",
     "evalue": "The truth value of a DataFrame is ambiguous. Use a.empty, a.bool(), a.item(), a.any() or a.all().",
     "output_type": "error",
     "traceback": [
      "\u001b[1;31m---------------------------------------------------------------------------\u001b[0m",
      "\u001b[1;31mValueError\u001b[0m                                Traceback (most recent call last)",
      "\u001b[1;32m~\\AppData\\Local\\Temp\\ipykernel_18876\\2702812121.py\u001b[0m in \u001b[0;36m?\u001b[1;34m()\u001b[0m\n\u001b[1;32m----> 1\u001b[1;33m \u001b[0mget_ipython\u001b[0m\u001b[1;33m(\u001b[0m\u001b[1;33m)\u001b[0m\u001b[1;33m.\u001b[0m\u001b[0mrun_cell_magic\u001b[0m\u001b[1;33m(\u001b[0m\u001b[1;34m'render'\u001b[0m\u001b[1;33m,\u001b[0m \u001b[1;34m'param 2'\u001b[0m\u001b[1;33m,\u001b[0m \u001b[1;34m'df\\n'\u001b[0m\u001b[1;33m)\u001b[0m\u001b[1;33m\u001b[0m\u001b[1;33m\u001b[0m\u001b[0m\n\u001b[0m",
      "\u001b[1;32mc:\\Users\\porte\\OneDrive\\Jupyter Notebooks\\.venv\\Lib\\site-packages\\handcalcs\\render.py\u001b[0m in \u001b[0;36m?\u001b[1;34m(line, cell)\u001b[0m\n\u001b[0;32m    102\u001b[0m     \u001b[0muser_ns_postrun\u001b[0m \u001b[1;33m=\u001b[0m \u001b[0mip\u001b[0m\u001b[1;33m.\u001b[0m\u001b[0muser_ns\u001b[0m\u001b[1;33m\u001b[0m\u001b[1;33m\u001b[0m\u001b[0m\n\u001b[0;32m    103\u001b[0m \u001b[1;33m\u001b[0m\u001b[0m\n\u001b[0;32m    104\u001b[0m     \u001b[1;31m# Do the handcalc conversion\u001b[0m\u001b[1;33m\u001b[0m\u001b[1;33m\u001b[0m\u001b[0m\n\u001b[0;32m    105\u001b[0m     \u001b[0mrenderer\u001b[0m \u001b[1;33m=\u001b[0m \u001b[0mhand\u001b[0m\u001b[1;33m.\u001b[0m\u001b[0mLatexRenderer\u001b[0m\u001b[1;33m(\u001b[0m\u001b[0mcell\u001b[0m\u001b[1;33m,\u001b[0m \u001b[0muser_ns_postrun\u001b[0m\u001b[1;33m,\u001b[0m \u001b[0mline_args\u001b[0m\u001b[1;33m)\u001b[0m\u001b[1;33m\u001b[0m\u001b[1;33m\u001b[0m\u001b[0m\n\u001b[1;32m--> 106\u001b[1;33m     \u001b[0mlatex_code\u001b[0m \u001b[1;33m=\u001b[0m \u001b[0mrenderer\u001b[0m\u001b[1;33m.\u001b[0m\u001b[0mrender\u001b[0m\u001b[1;33m(\u001b[0m\u001b[1;33m)\u001b[0m\u001b[1;33m\u001b[0m\u001b[1;33m\u001b[0m\u001b[0m\n\u001b[0m\u001b[0;32m    107\u001b[0m \u001b[1;33m\u001b[0m\u001b[0m\n\u001b[0;32m    108\u001b[0m     \u001b[1;31m# Display, but not as an \"output\"\u001b[0m\u001b[1;33m\u001b[0m\u001b[1;33m\u001b[0m\u001b[0m\n\u001b[0;32m    109\u001b[0m     \u001b[0mdisplay\u001b[0m\u001b[1;33m(\u001b[0m\u001b[0mLatex\u001b[0m\u001b[1;33m(\u001b[0m\u001b[0mlatex_code\u001b[0m\u001b[1;33m)\u001b[0m\u001b[1;33m)\u001b[0m\u001b[1;33m\u001b[0m\u001b[1;33m\u001b[0m\u001b[0m\n",
      "\u001b[1;32mc:\\Users\\porte\\OneDrive\\Jupyter Notebooks\\.venv\\Lib\\site-packages\\handcalcs\\handcalcs.py\u001b[0m in \u001b[0;36m?\u001b[1;34m(self, config_options)\u001b[0m\n\u001b[0;32m    183\u001b[0m     \u001b[1;32mdef\u001b[0m \u001b[0mrender\u001b[0m\u001b[1;33m(\u001b[0m\u001b[0mself\u001b[0m\u001b[1;33m,\u001b[0m \u001b[0mconfig_options\u001b[0m\u001b[1;33m:\u001b[0m \u001b[0mdict\u001b[0m \u001b[1;33m=\u001b[0m \u001b[0mglobal_config\u001b[0m\u001b[1;33m.\u001b[0m\u001b[0m_config\u001b[0m\u001b[1;33m)\u001b[0m\u001b[1;33m:\u001b[0m\u001b[1;33m\u001b[0m\u001b[1;33m\u001b[0m\u001b[0m\n\u001b[1;32m--> 184\u001b[1;33m         return latex(\n\u001b[0m\u001b[0;32m    185\u001b[0m             \u001b[0mraw_python_source\u001b[0m\u001b[1;33m=\u001b[0m\u001b[0mself\u001b[0m\u001b[1;33m.\u001b[0m\u001b[0msource\u001b[0m\u001b[1;33m,\u001b[0m\u001b[1;33m\u001b[0m\u001b[1;33m\u001b[0m\u001b[0m\n\u001b[0;32m    186\u001b[0m             \u001b[0mcalculated_results\u001b[0m\u001b[1;33m=\u001b[0m\u001b[0mself\u001b[0m\u001b[1;33m.\u001b[0m\u001b[0mresults\u001b[0m\u001b[1;33m,\u001b[0m\u001b[1;33m\u001b[0m\u001b[1;33m\u001b[0m\u001b[0m\n\u001b[0;32m    187\u001b[0m             \u001b[0moverride_commands\u001b[0m\u001b[1;33m=\u001b[0m\u001b[0mself\u001b[0m\u001b[1;33m.\u001b[0m\u001b[0moverride_commands\u001b[0m\u001b[1;33m,\u001b[0m\u001b[1;33m\u001b[0m\u001b[1;33m\u001b[0m\u001b[0m\n",
      "\u001b[1;32mc:\\Users\\porte\\OneDrive\\Jupyter Notebooks\\.venv\\Lib\\site-packages\\handcalcs\\handcalcs.py\u001b[0m in \u001b[0;36m?\u001b[1;34m(raw_python_source, calculated_results, override_commands, config_options, cell_precision, cell_notation)\u001b[0m\n\u001b[0;32m    222\u001b[0m         \u001b[0mcell_precision\u001b[0m\u001b[1;33m,\u001b[0m\u001b[1;33m\u001b[0m\u001b[1;33m\u001b[0m\u001b[0m\n\u001b[0;32m    223\u001b[0m         \u001b[0mcell_notation\u001b[0m\u001b[1;33m,\u001b[0m\u001b[1;33m\u001b[0m\u001b[1;33m\u001b[0m\u001b[0m\n\u001b[0;32m    224\u001b[0m     )\n\u001b[0;32m    225\u001b[0m     \u001b[0mcell\u001b[0m \u001b[1;33m=\u001b[0m \u001b[0mcategorize_lines\u001b[0m\u001b[1;33m(\u001b[0m\u001b[0mcell\u001b[0m\u001b[1;33m)\u001b[0m\u001b[1;33m\u001b[0m\u001b[1;33m\u001b[0m\u001b[0m\n\u001b[1;32m--> 226\u001b[1;33m     cell = convert_cell(\n\u001b[0m\u001b[0;32m    227\u001b[0m         \u001b[0mcell\u001b[0m\u001b[1;33m,\u001b[0m\u001b[1;33m\u001b[0m\u001b[1;33m\u001b[0m\u001b[0m\n\u001b[0;32m    228\u001b[0m         \u001b[1;33m**\u001b[0m\u001b[0mconfig_options\u001b[0m\u001b[1;33m,\u001b[0m\u001b[1;33m\u001b[0m\u001b[1;33m\u001b[0m\u001b[0m\n\u001b[0;32m    229\u001b[0m     )\n",
      "\u001b[1;32m~\\AppData\\Local\\Programs\\Python\\Python311\\Lib\\functools.py\u001b[0m in \u001b[0;36m?\u001b[1;34m(*args, **kw)\u001b[0m\n\u001b[0;32m    905\u001b[0m         \u001b[1;32mif\u001b[0m \u001b[1;32mnot\u001b[0m \u001b[0margs\u001b[0m\u001b[1;33m:\u001b[0m\u001b[1;33m\u001b[0m\u001b[1;33m\u001b[0m\u001b[0m\n\u001b[0;32m    906\u001b[0m             raise TypeError(f'{funcname} requires at least '\n\u001b[0;32m    907\u001b[0m                             '1 positional argument')\n\u001b[0;32m    908\u001b[0m \u001b[1;33m\u001b[0m\u001b[0m\n\u001b[1;32m--> 909\u001b[1;33m         \u001b[1;32mreturn\u001b[0m \u001b[0mdispatch\u001b[0m\u001b[1;33m(\u001b[0m\u001b[0margs\u001b[0m\u001b[1;33m[\u001b[0m\u001b[1;36m0\u001b[0m\u001b[1;33m]\u001b[0m\u001b[1;33m.\u001b[0m\u001b[0m__class__\u001b[0m\u001b[1;33m)\u001b[0m\u001b[1;33m(\u001b[0m\u001b[1;33m*\u001b[0m\u001b[0margs\u001b[0m\u001b[1;33m,\u001b[0m \u001b[1;33m**\u001b[0m\u001b[0mkw\u001b[0m\u001b[1;33m)\u001b[0m\u001b[1;33m\u001b[0m\u001b[1;33m\u001b[0m\u001b[0m\n\u001b[0m",
      "\u001b[1;32mc:\\Users\\porte\\OneDrive\\Jupyter Notebooks\\.venv\\Lib\\site-packages\\handcalcs\\handcalcs.py\u001b[0m in \u001b[0;36m?\u001b[1;34m(cell, **config_options)\u001b[0m\n\u001b[0;32m    720\u001b[0m     \u001b[0moutgoing\u001b[0m \u001b[1;33m=\u001b[0m \u001b[0mcell\u001b[0m\u001b[1;33m.\u001b[0m\u001b[0mlines\u001b[0m\u001b[1;33m\u001b[0m\u001b[1;33m\u001b[0m\u001b[0m\n\u001b[0;32m    721\u001b[0m     \u001b[0mcalculated_results\u001b[0m \u001b[1;33m=\u001b[0m \u001b[0mcell\u001b[0m\u001b[1;33m.\u001b[0m\u001b[0mcalculated_results\u001b[0m\u001b[1;33m\u001b[0m\u001b[1;33m\u001b[0m\u001b[0m\n\u001b[0;32m    722\u001b[0m     \u001b[0mincoming\u001b[0m \u001b[1;33m=\u001b[0m \u001b[0mdeque\u001b[0m\u001b[1;33m(\u001b[0m\u001b[1;33m[\u001b[0m\u001b[1;33m]\u001b[0m\u001b[1;33m)\u001b[0m\u001b[1;33m\u001b[0m\u001b[1;33m\u001b[0m\u001b[0m\n\u001b[0;32m    723\u001b[0m     \u001b[1;32mfor\u001b[0m \u001b[0mline\u001b[0m \u001b[1;32min\u001b[0m \u001b[0moutgoing\u001b[0m\u001b[1;33m:\u001b[0m\u001b[1;33m\u001b[0m\u001b[1;33m\u001b[0m\u001b[0m\n\u001b[1;32m--> 724\u001b[1;33m         \u001b[0mincoming\u001b[0m\u001b[1;33m.\u001b[0m\u001b[0mappend\u001b[0m\u001b[1;33m(\u001b[0m\u001b[0mconvert_line\u001b[0m\u001b[1;33m(\u001b[0m\u001b[0mline\u001b[0m\u001b[1;33m,\u001b[0m \u001b[0mcalculated_results\u001b[0m\u001b[1;33m,\u001b[0m \u001b[1;33m**\u001b[0m\u001b[0mconfig_options\u001b[0m\u001b[1;33m)\u001b[0m\u001b[1;33m)\u001b[0m\u001b[1;33m\u001b[0m\u001b[1;33m\u001b[0m\u001b[0m\n\u001b[0m\u001b[0;32m    725\u001b[0m     \u001b[0mcell\u001b[0m\u001b[1;33m.\u001b[0m\u001b[0mlines\u001b[0m \u001b[1;33m=\u001b[0m \u001b[0mincoming\u001b[0m\u001b[1;33m\u001b[0m\u001b[1;33m\u001b[0m\u001b[0m\n\u001b[0;32m    726\u001b[0m     \u001b[1;32mreturn\u001b[0m \u001b[0mcell\u001b[0m\u001b[1;33m\u001b[0m\u001b[1;33m\u001b[0m\u001b[0m\n",
      "\u001b[1;32m~\\AppData\\Local\\Programs\\Python\\Python311\\Lib\\functools.py\u001b[0m in \u001b[0;36m?\u001b[1;34m(*args, **kw)\u001b[0m\n\u001b[0;32m    905\u001b[0m         \u001b[1;32mif\u001b[0m \u001b[1;32mnot\u001b[0m \u001b[0margs\u001b[0m\u001b[1;33m:\u001b[0m\u001b[1;33m\u001b[0m\u001b[1;33m\u001b[0m\u001b[0m\n\u001b[0;32m    906\u001b[0m             raise TypeError(f'{funcname} requires at least '\n\u001b[0;32m    907\u001b[0m                             '1 positional argument')\n\u001b[0;32m    908\u001b[0m \u001b[1;33m\u001b[0m\u001b[0m\n\u001b[1;32m--> 909\u001b[1;33m         \u001b[1;32mreturn\u001b[0m \u001b[0mdispatch\u001b[0m\u001b[1;33m(\u001b[0m\u001b[0margs\u001b[0m\u001b[1;33m[\u001b[0m\u001b[1;36m0\u001b[0m\u001b[1;33m]\u001b[0m\u001b[1;33m.\u001b[0m\u001b[0m__class__\u001b[0m\u001b[1;33m)\u001b[0m\u001b[1;33m(\u001b[0m\u001b[1;33m*\u001b[0m\u001b[0margs\u001b[0m\u001b[1;33m,\u001b[0m \u001b[1;33m**\u001b[0m\u001b[0mkw\u001b[0m\u001b[1;33m)\u001b[0m\u001b[1;33m\u001b[0m\u001b[1;33m\u001b[0m\u001b[0m\n\u001b[0m",
      "\u001b[1;32mc:\\Users\\porte\\OneDrive\\Jupyter Notebooks\\.venv\\Lib\\site-packages\\handcalcs\\handcalcs.py\u001b[0m in \u001b[0;36m?\u001b[1;34m(line, calculated_results, **config_options)\u001b[0m\n\u001b[0;32m    818\u001b[0m \u001b[1;33m@\u001b[0m\u001b[0mconvert_line\u001b[0m\u001b[1;33m.\u001b[0m\u001b[0mregister\u001b[0m\u001b[1;33m(\u001b[0m\u001b[0mParameterLine\u001b[0m\u001b[1;33m)\u001b[0m\u001b[1;33m\u001b[0m\u001b[1;33m\u001b[0m\u001b[0m\n\u001b[0;32m    819\u001b[0m \u001b[1;32mdef\u001b[0m \u001b[0mconvert_parameter\u001b[0m\u001b[1;33m(\u001b[0m\u001b[0mline\u001b[0m\u001b[1;33m,\u001b[0m \u001b[0mcalculated_results\u001b[0m\u001b[1;33m,\u001b[0m \u001b[1;33m**\u001b[0m\u001b[0mconfig_options\u001b[0m\u001b[1;33m)\u001b[0m\u001b[1;33m:\u001b[0m\u001b[1;33m\u001b[0m\u001b[1;33m\u001b[0m\u001b[0m\n\u001b[1;32m--> 820\u001b[1;33m     \u001b[0mline\u001b[0m\u001b[1;33m.\u001b[0m\u001b[0mline\u001b[0m \u001b[1;33m=\u001b[0m \u001b[0mswap_symbolic_calcs\u001b[0m\u001b[1;33m(\u001b[0m\u001b[0mline\u001b[0m\u001b[1;33m.\u001b[0m\u001b[0mline\u001b[0m\u001b[1;33m,\u001b[0m \u001b[0mcalculated_results\u001b[0m\u001b[1;33m,\u001b[0m \u001b[1;33m**\u001b[0m\u001b[0mconfig_options\u001b[0m\u001b[1;33m)\u001b[0m\u001b[1;33m\u001b[0m\u001b[1;33m\u001b[0m\u001b[0m\n\u001b[0m\u001b[0;32m    821\u001b[0m     \u001b[1;32mreturn\u001b[0m \u001b[0mline\u001b[0m\u001b[1;33m\u001b[0m\u001b[1;33m\u001b[0m\u001b[0m\n",
      "\u001b[1;32mc:\\Users\\porte\\OneDrive\\Jupyter Notebooks\\.venv\\Lib\\site-packages\\handcalcs\\handcalcs.py\u001b[0m in \u001b[0;36m?\u001b[1;34m(calculation, calc_results, **config_options)\u001b[0m\n\u001b[0;32m   2076\u001b[0m             symbolic_expression = replace_underscores(\n\u001b[0;32m   2077\u001b[0m                 \u001b[0msymbolic_expression\u001b[0m\u001b[1;33m,\u001b[0m \u001b[1;33m**\u001b[0m\u001b[0mconfig_options\u001b[0m\u001b[1;33m\u001b[0m\u001b[1;33m\u001b[0m\u001b[0m\n\u001b[0;32m   2078\u001b[0m             )\n\u001b[0;32m   2079\u001b[0m         \u001b[1;32melse\u001b[0m\u001b[1;33m:\u001b[0m\u001b[1;33m\u001b[0m\u001b[1;33m\u001b[0m\u001b[0m\n\u001b[1;32m-> 2080\u001b[1;33m             \u001b[0msymbolic_expression\u001b[0m \u001b[1;33m=\u001b[0m \u001b[0mfunction\u001b[0m\u001b[1;33m(\u001b[0m\u001b[0msymbolic_expression\u001b[0m\u001b[1;33m,\u001b[0m \u001b[1;33m**\u001b[0m\u001b[0mconfig_options\u001b[0m\u001b[1;33m)\u001b[0m\u001b[1;33m\u001b[0m\u001b[1;33m\u001b[0m\u001b[0m\n\u001b[0m\u001b[0;32m   2081\u001b[0m     \u001b[1;32mreturn\u001b[0m \u001b[0msymbolic_expression\u001b[0m\u001b[1;33m\u001b[0m\u001b[1;33m\u001b[0m\u001b[0m\n",
      "\u001b[1;32mc:\\Users\\porte\\OneDrive\\Jupyter Notebooks\\.venv\\Lib\\site-packages\\handcalcs\\handcalcs.py\u001b[0m in \u001b[0;36m?\u001b[1;34m(pycode_as_deque, **config_options)\u001b[0m\n\u001b[0;32m   3213\u001b[0m                     \u001b[0mskip_fraction_token\u001b[0m \u001b[1;33m=\u001b[0m \u001b[1;32mFalse\u001b[0m\u001b[1;33m\u001b[0m\u001b[1;33m\u001b[0m\u001b[0m\n\u001b[0;32m   3214\u001b[0m                 \u001b[0mnew_item\u001b[0m \u001b[1;33m=\u001b[0m \u001b[0minsert_parentheses\u001b[0m\u001b[1;33m(\u001b[0m\u001b[0mitem\u001b[0m\u001b[1;33m)\u001b[0m\u001b[1;33m\u001b[0m\u001b[1;33m\u001b[0m\u001b[0m\n\u001b[0;32m   3215\u001b[0m                 \u001b[0mswapped_deque\u001b[0m\u001b[1;33m.\u001b[0m\u001b[0mappend\u001b[0m\u001b[1;33m(\u001b[0m\u001b[0mnew_item\u001b[0m\u001b[1;33m)\u001b[0m\u001b[1;33m\u001b[0m\u001b[1;33m\u001b[0m\u001b[0m\n\u001b[0;32m   3216\u001b[0m         \u001b[1;32melse\u001b[0m\u001b[1;33m:\u001b[0m\u001b[1;33m\u001b[0m\u001b[1;33m\u001b[0m\u001b[0m\n\u001b[1;32m-> 3217\u001b[1;33m             \u001b[1;32mif\u001b[0m \u001b[0mitem\u001b[0m \u001b[1;33m==\u001b[0m \u001b[1;34m\"/\"\u001b[0m\u001b[1;33m:\u001b[0m\u001b[1;33m\u001b[0m\u001b[1;33m\u001b[0m\u001b[0m\n\u001b[0m\u001b[0;32m   3218\u001b[0m                 \u001b[0mskip_fraction_token\u001b[0m \u001b[1;33m=\u001b[0m \u001b[1;32mTrue\u001b[0m\u001b[1;33m\u001b[0m\u001b[1;33m\u001b[0m\u001b[0m\n\u001b[0;32m   3219\u001b[0m             \u001b[1;32melif\u001b[0m \u001b[0mskip_fraction_token\u001b[0m \u001b[1;32mand\u001b[0m \u001b[0mprev_item\u001b[0m \u001b[1;33m==\u001b[0m \u001b[1;34m\"/\"\u001b[0m\u001b[1;33m:\u001b[0m\u001b[1;33m\u001b[0m\u001b[1;33m\u001b[0m\u001b[0m\n\u001b[0;32m   3220\u001b[0m                 \u001b[0mskip_fraction_token\u001b[0m \u001b[1;33m=\u001b[0m \u001b[1;32mFalse\u001b[0m\u001b[1;33m\u001b[0m\u001b[1;33m\u001b[0m\u001b[0m\n",
      "\u001b[1;32mc:\\Users\\porte\\OneDrive\\Jupyter Notebooks\\.venv\\Lib\\site-packages\\pandas\\core\\generic.py\u001b[0m in \u001b[0;36m?\u001b[1;34m(self)\u001b[0m\n\u001b[0;32m   1575\u001b[0m     \u001b[1;33m@\u001b[0m\u001b[0mfinal\u001b[0m\u001b[1;33m\u001b[0m\u001b[1;33m\u001b[0m\u001b[0m\n\u001b[0;32m   1576\u001b[0m     \u001b[1;32mdef\u001b[0m \u001b[0m__nonzero__\u001b[0m\u001b[1;33m(\u001b[0m\u001b[0mself\u001b[0m\u001b[1;33m)\u001b[0m \u001b[1;33m->\u001b[0m \u001b[0mNoReturn\u001b[0m\u001b[1;33m:\u001b[0m\u001b[1;33m\u001b[0m\u001b[1;33m\u001b[0m\u001b[0m\n\u001b[1;32m-> 1577\u001b[1;33m         raise ValueError(\n\u001b[0m\u001b[0;32m   1578\u001b[0m             \u001b[1;34mf\"The truth value of a {type(self).__name__} is ambiguous. \"\u001b[0m\u001b[1;33m\u001b[0m\u001b[1;33m\u001b[0m\u001b[0m\n\u001b[0;32m   1579\u001b[0m             \u001b[1;34m\"Use a.empty, a.bool(), a.item(), a.any() or a.all().\"\u001b[0m\u001b[1;33m\u001b[0m\u001b[1;33m\u001b[0m\u001b[0m\n\u001b[0;32m   1580\u001b[0m         )\n",
      "\u001b[1;31mValueError\u001b[0m: The truth value of a DataFrame is ambiguous. Use a.empty, a.bool(), a.item(), a.any() or a.all()."
     ]
    }
   ],
   "source": [
    "%%render param 2\n",
    "df"
   ]
  }
 ],
 "metadata": {
  "kernelspec": {
   "display_name": ".venv",
   "language": "python",
   "name": "python3"
  },
  "language_info": {
   "codemirror_mode": {
    "name": "ipython",
    "version": 3
   },
   "file_extension": ".py",
   "mimetype": "text/x-python",
   "name": "python",
   "nbconvert_exporter": "python",
   "pygments_lexer": "ipython3",
   "version": "3.11.2"
  },
  "toc-autonumbering": false,
  "toc-showcode": true,
  "toc-showmarkdowntxt": false,
  "toc-showtags": false
 },
 "nbformat": 4,
 "nbformat_minor": 5
}
