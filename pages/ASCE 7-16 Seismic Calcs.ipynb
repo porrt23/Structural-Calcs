{
 "cells": [
  {
   "cell_type": "code",
   "execution_count": 1,
   "id": "3967405e-5ab3-434a-801e-ec7c7367e63f",
   "metadata": {},
   "outputs": [],
   "source": [
    "# Import necessary libraries\n",
    "import numpy as np\n",
    "import handcalcs.render\n",
    "import math"
   ]
  },
  {
   "cell_type": "code",
   "execution_count": null,
   "id": "af2ef899-f36d-4280-9866-3c80a95eaad9",
   "metadata": {},
   "outputs": [],
   "source": [
    "# # Define the seismic importance factor\n",
    "# I_e = 1.00\n",
    "\n",
    "# # Define the design spectral response acceleration parameter at short periods (0.2s < T < 0.5s)\n",
    "# S_DS = 1.50\n",
    "\n",
    "# # Define the design spectral response acceleration parameter at a one-second period\n",
    "# S_D1 = 0.75*S_DS\n",
    "\n",
    "# # Define the mapped spectral response acceleration parameter at short periods (0.2s < T < 0.5s)\n",
    "# S_MS = 0.75*S_DS\n",
    "\n",
    "# # Define the mapped spectral response acceleration parameter at a one-second period\n",
    "# S_M1 = 0.6*S_D1\n",
    "\n",
    "# # Define the seismic response coefficient\n",
    "# C_s = 2.5*(I_e*S_DS)/R\n",
    "\n",
    "# # Define the base shear force\n",
    "# V = C_s*W\n",
    "\n",
    "# # Define the building period (seconds)\n",
    "# T = 0.75*h*np.sqrt(R/I_e)\n",
    "\n",
    "# # Define the fundamental lateral frequency of the structure\n",
    "# f = 1/T\n",
    "\n",
    "# # Define the deflection amplification factor\n",
    "# C_d = 5.0\n",
    "\n",
    "# # Define the seismic drift limit\n",
    "# delta_max = C_d*h/240.0\n",
    "\n",
    "# # Define the seismic story drift\n",
    "# delta_i = V/(sum(W)*f)*np.sqrt((h_i/f)**2 + 0.6*delta_max)\n",
    "\n",
    "# # Define the seismic story shear\n",
    "# V_i = W_i*delta_i*f\n",
    "\n",
    "# # Define the seismic force\n",
    "# F_i = V_i + 0.2*W_i\n",
    "\n",
    "# # Define the seismic force reduction factor\n",
    "# R = 3.0\n",
    "\n",
    "# # Define the seismic load effect\n",
    "# E_i = R*F_i\n",
    "\n"
   ]
  },
  {
   "cell_type": "code",
   "execution_count": 8,
   "id": "5955ac33-393e-4f8e-93e3-741154e929ba",
   "metadata": {},
   "outputs": [
    {
     "data": {
      "text/latex": [
       "\\[\n",
       "\\begin{aligned}\n",
       "\\pi &= 3.14 \\; \n",
       "\\\\[10pt]\n",
       "\\mathrm{Ie} &= 1.00 \\; \\;\\textrm{(Importance factor)}\n",
       "\\\\[10pt]\n",
       "\\mathrm{Sds} &= 0.50 \\; \\;\\textrm{(MCE short period spectral acceleration)}\n",
       "\\\\[10pt]\n",
       "\\mathrm{Sd1} &= 0.30 \\; \\;\\textrm{(MCE one second spectral acceleration)}\n",
       "\\\\[10pt]\n",
       "\\mathrm{TL} &= 1.00 \\; \\;\\textrm{(Long period transition period)}\n",
       "\\\\[10pt]\n",
       "T &= 0.70 \\; \\;\\textrm{(Building period)}\n",
       "\\\\[10pt]\n",
       "\\mathrm{Fa} &= 1.20 \\; \\;\\textrm{(Site coefficient for short period acceleration)}\n",
       "\\\\[10pt]\n",
       "\\mathrm{Fv} &= 1.50 \\; \\;\\textrm{(Site coefficient for one second period velocity)}\n",
       "\\\\[10pt]\n",
       "\\mathrm{Cs} &= \\operatorname{max} { \\left( \\mathrm{Ie} \\cdot \\frac{ \\mathrm{Sds} }{ \\left( 2 \\cdot \\frac{ \\mathrm{TL} }{ T } \\right) ^{ \\left( \\frac{ 1 }{ 2 } \\right) } } ,\\  0.044 \\cdot \\mathrm{Ie} \\cdot \\mathrm{Sd1} \\right) }  = \\operatorname{max} { \\left( 1.00 \\cdot \\frac{ 0.50 }{ \\left( 2 \\cdot \\frac{ 1.00 }{ 0.70 } \\right) ^{ \\left( \\frac{ 1 }{ 2 } \\right) } } ,\\  0.044 \\cdot 1.00 \\cdot 0.30 \\right) } &= 0.30  \n",
       "\\\\[10pt]\n",
       "V &= \\mathrm{Cs} \\cdot 1000  = 0.30 \\cdot 1000 &= 295.80 \\; \\;\\textrm{(Applied shear force)}\n",
       "\\\\[10pt]\n",
       "W &= \\frac{ V }{ \\mathrm{Fa} \\cdot \\mathrm{Sds} }  = \\frac{ 295.80 }{ 1.20 \\cdot 0.50 } &= 493.01  \n",
       "\\\\[10pt]\n",
       "\\mathrm{Tf} &= 2 \\cdot \\pi \\cdot \\left( \\frac{ W }{ 32.2 \\cdot \\mathrm{Fv} } \\right) ^{ \\left( \\frac{ 1 }{ 2 } \\right) }  = 2 \\cdot 3.14 \\cdot \\left( \\frac{ 493.01 }{ 32.2 \\cdot 1.50 } \\right) ^{ \\left( \\frac{ 1 }{ 2 } \\right) } &= 20.07  \n",
       "\\\\[10pt]\n",
       "\\mathrm{Cs}_{regular} &= \\mathrm{Cs} \\cdot \\left( 0.85 + 0.15 \\cdot \\left( \\frac{ T }{ \\mathrm{Tf} } \\right) \\right)  = 0.30 \\cdot \\left( 0.85 + 0.15 \\cdot \\left( \\frac{ 0.70 }{ 20.07 } \\right) \\right) &= 0.25  \n",
       "\\\\[10pt]\n",
       "\\mathrm{Cs}_{irregular} &= \\mathrm{Cs}_{regular} \\cdot \\left( 0.7 + 0.3 \\cdot \\frac{ \\mathrm{Sds} }{ \\mathrm{Sd1} } \\right)  = 0.25 \\cdot \\left( 0.7 + 0.3 \\cdot \\frac{ 0.50 }{ 0.30 } \\right) &= 0.30  \n",
       "\\end{aligned}\n",
       "\\]"
      ],
      "text/plain": [
       "<IPython.core.display.Latex object>"
      ]
     },
     "metadata": {},
     "output_type": "display_data"
    }
   ],
   "source": [
    "%%render short 2\n",
    "pi = math.pi\n",
    "# Input parameters\n",
    "Ie = 1.0  # Importance factor\n",
    "Sds = 0.5  # MCE short period spectral acceleration\n",
    "Sd1 = 0.3  # MCE one second spectral acceleration\n",
    "TL = 1.0  # Long period transition period\n",
    "T = 0.7  # Building period\n",
    "\n",
    "# Site coefficients\n",
    "Fa = 1.2  # Site coefficient for short period acceleration\n",
    "Fv = 1.5  # Site coefficient for one second period velocity\n",
    "\n",
    "# Calculate seismic response coefficient\n",
    "Cs = max(Ie * Sds / (2 * TL / T)**(1/2), 0.044 * Ie * Sd1)\n",
    "\n",
    "# Calculate design base shear\n",
    "V = Cs * 1000  # Applied shear force\n",
    "\n",
    "# EQ 12.8-2: Calculate seismic weight\n",
    "W = V / (Fa * Sds)\n",
    "\n",
    "# EQ 12.8-3: Calculate fundamental period\n",
    "Tf = 2 * pi * (W / (32.2 * Fv))**(1/2)\n",
    "\n",
    "# EQ 12.8-1: Calculate seismic response coefficient for regular-shaped building\n",
    "Cs_regular = Cs * (0.85 + 0.15 * (T / Tf))\n",
    "\n",
    "# EQ 12.8-1: Calculate seismic response coefficient for irregular-shaped building\n",
    "Cs_irregular = Cs_regular * (0.7 + 0.3 * Sds / Sd1)\n",
    "\n"
   ]
  },
  {
   "cell_type": "code",
   "execution_count": null,
   "id": "ea0aa5e5-c922-4514-9a4a-fa554883d549",
   "metadata": {},
   "outputs": [],
   "source": []
  }
 ],
 "metadata": {
  "kernelspec": {
   "display_name": "Python 3 (ipykernel)",
   "language": "python",
   "name": "python3"
  },
  "language_info": {
   "codemirror_mode": {
    "name": "ipython",
    "version": 3
   },
   "file_extension": ".py",
   "mimetype": "text/x-python",
   "name": "python",
   "nbconvert_exporter": "python",
   "pygments_lexer": "ipython3",
   "version": "3.10.6"
  }
 },
 "nbformat": 4,
 "nbformat_minor": 5
}
