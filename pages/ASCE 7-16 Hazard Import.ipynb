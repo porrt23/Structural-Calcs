{
 "cells": [
  {
   "cell_type": "code",
   "execution_count": 2,
   "id": "1843f867-2802-4427-bb58-3b5d8ab1caa7",
   "metadata": {},
   "outputs": [],
   "source": [
    "from PyPDF2 import PdfReader\n",
    "import re"
   ]
  },
  {
   "cell_type": "code",
   "execution_count": 5,
   "id": "2c45894d-0c24-4a5b-bb23-a21269e33d61",
   "metadata": {
    "tags": []
   },
   "outputs": [],
   "source": [
    "# Open the PDF report and extract the text\n",
    "\n",
    "reader = PdfReader(\"ASCEDesignHazardsReport.pdf\")\n",
    "design_values = {\n",
    "    'Wind Speed': 0,  # mph\n",
    "    'SS': 0,\n",
    "    'S1': 0,\n",
    "    'Fa': 0,\n",
    "    'Fv': 0,\n",
    "    'SMS': 0,\n",
    "    'SM1': 0,\n",
    "    'SDS': 0,\n",
    "    'SD1': 0,\n",
    "    'TL': 0,\n",
    "    'PGA': 0,\n",
    "    'PGAM': 0,\n",
    "    'FPGA': 0,\n",
    "    'Ie': 0,\n",
    "    'Cv': 0,\n",
    "    'Seismic Design Category': 0,  # Probably need to actually calculate some of these values from the equations\n",
    "    'Ground Snow Load': 0,  # Ground snow (pg) in psf\n",
    "    '15-minute Precipitation Intensity': 0,  # 15 minute rain value\n",
    "    '60-minute Precipitation Intensity': 0  # 1 hour rain value\n",
    "}\n",
    "\n",
    "# Open the PDF report and extract design values\n",
    "for i in range(0, len(reader.pages)):\n",
    "    page = reader.pages[i]\n",
    "    lines = page.extract_text().split('\\n')\n",
    "    for line in lines:\n",
    "        for search_string in design_values.keys():\n",
    "            if search_string in line:\n",
    "                edits = line.replace(search_string, \"\")\n",
    "                test = float(re.findall(r'\\d+\\.?\\d*', edits)[0])\n",
    "                design_values[search_string] = test"
   ]
  },
  {
   "cell_type": "code",
   "execution_count": 6,
   "id": "7a27e4ba-bfed-49d0-885f-e01ce5313203",
   "metadata": {},
   "outputs": [
    {
     "data": {
      "text/plain": [
       "{'Wind Speed': 107.0,\n",
       " 'SS': 0.208,\n",
       " 'S1': 0.089,\n",
       " 'Fa': 1.6,\n",
       " 'Fv': 2.4,\n",
       " 'SMS': 0.333,\n",
       " 'SM1': 0.214,\n",
       " 'SDS': 0.222,\n",
       " 'SD1': 0.222,\n",
       " 'TL': 12.0,\n",
       " 'PGA': 1.584,\n",
       " 'PGAM': 0.171,\n",
       " 'FPGA': 1.584,\n",
       " 'Ie': 1.0,\n",
       " 'Cv': 0.717,\n",
       " 'Seismic Design Category': 11.4,\n",
       " 'Ground Snow Load': 5.0,\n",
       " '15-minute Precipitation Intensity': 7.12,\n",
       " '60-minute Precipitation Intensity': 3.21}"
      ]
     },
     "execution_count": 6,
     "metadata": {},
     "output_type": "execute_result"
    }
   ],
   "source": [
    "design_values"
   ]
  },
  {
   "cell_type": "code",
   "execution_count": null,
   "id": "768581a1-27c5-4c42-a507-f57c2953d071",
   "metadata": {},
   "outputs": [],
   "source": []
  }
 ],
 "metadata": {
  "kernelspec": {
   "display_name": "Python 3 (ipykernel)",
   "language": "python",
   "name": "python3"
  },
  "language_info": {
   "codemirror_mode": {
    "name": "ipython",
    "version": 3
   },
   "file_extension": ".py",
   "mimetype": "text/x-python",
   "name": "python",
   "nbconvert_exporter": "python",
   "pygments_lexer": "ipython3",
   "version": "3.10.6"
  },
  "toc-autonumbering": true,
  "toc-showcode": true,
  "toc-showmarkdowntxt": false,
  "toc-showtags": false
 },
 "nbformat": 4,
 "nbformat_minor": 5
}
